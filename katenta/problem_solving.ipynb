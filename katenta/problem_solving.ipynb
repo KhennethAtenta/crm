{
 "cells": [
  {
   "cell_type": "markdown",
   "id": "8fee6b5e",
   "metadata": {},
   "source": [
    "# Problem Solving Strategies\n",
    "\n",
    "## Problem Statement:\n",
    "A company wants to develop a **Customer Relationship Management (CRM) System** that manages customer data, tracks sales, and generates reports. The system should be designed using modular programming principles, where different functionalities are separated into distinct modules.\n",
    "\n",
    "### Functional Modules:\n",
    "1. **Customer Management Module**  \n",
    "   - Stores customer details (name, email, phone).  \n",
    "   - Allows adding, updating, and deleting customer records.  \n",
    "\n",
    "2. **Sales Tracking Module**  \n",
    "   - Records sales transactions (customer, product, amount).  \n",
    "   - Tracks revenue and sales trends over time.  \n",
    "\n",
    "3. **Reporting Module**  \n",
    "   - Generates reports based on customer interactions and sales data.  \n",
    "   - Provides insights into customer behavior and sales performance.  \n"
   ]
  },
  {
   "cell_type": "code",
   "execution_count": 3,
   "id": "931a462c-5810-4da9-808c-f63e67d4cf76",
   "metadata": {},
   "outputs": [
    {
     "name": "stdout",
     "output_type": "stream",
     "text": [
      "Requirement already satisfied: faker in d:\\anaconda\\envs\\mixed-signals\\lib\\site-packages (36.1.1)\n",
      "Requirement already satisfied: tzdata in d:\\anaconda\\envs\\mixed-signals\\lib\\site-packages (from faker) (2025.1)\n"
     ]
    }
   ],
   "source": [
    "!pip install faker\n"
   ]
  },
  {
   "cell_type": "code",
   "execution_count": 4,
   "id": "2c44ff46",
   "metadata": {},
   "outputs": [],
   "source": [
    "class CustomerManagement:\n",
    "    def __init__(self):\n",
    "        self.customers = []\n",
    "\n",
    "    def add_customer(self, name, email, phone):\n",
    "        customer = {\"Name\": name, \"Email\": email, \"Phone\": phone}\n",
    "        self.customers.append(customer)\n",
    "        return f\"Customer {name} added successfully.\"\n",
    "\n",
    "    def get_customers(self):\n",
    "        return self.customers"
   ]
  },
  {
   "cell_type": "code",
   "execution_count": 5,
   "id": "7b00a7d4",
   "metadata": {},
   "outputs": [],
   "source": [
    "class SalesTracking:\n",
    "    def __init__(self):\n",
    "        self.sales = []\n",
    "\n",
    "    def record_sale(self, customer_name, product, amount):\n",
    "        sale = {\"Customer\": customer_name, \"Product\": product, \"Amount\": amount}\n",
    "        self.sales.append(sale)\n",
    "        return f\"Sale recorded for {customer_name}: {product} - ${amount}\"\n",
    "\n",
    "    def get_sales(self):\n",
    "        return self.sales"
   ]
  },
  {
   "cell_type": "code",
   "execution_count": 6,
   "id": "cf2f7595",
   "metadata": {},
   "outputs": [],
   "source": [
    "class Reporting:\n",
    "    def __init__(self, customer_mgmt, sales_mgmt):\n",
    "        self.customer_mgmt = customer_mgmt\n",
    "        self.sales_mgmt = sales_mgmt\n",
    "\n",
    "    def generate_report(self):\n",
    "        report = {\n",
    "            \"Total Customers\": len(self.customer_mgmt.get_customers()),\n",
    "            \"Total Sales\": len(self.sales_mgmt.get_sales()),\n",
    "            \"Revenue\": sum(sale[\"Amount\"] for sale in self.sales_mgmt.get_sales()),\n",
    "        }\n",
    "        return report"
   ]
  },
  {
   "cell_type": "code",
   "execution_count": 10,
   "id": "efc7d0a2",
   "metadata": {},
   "outputs": [
    {
     "name": "stdout",
     "output_type": "stream",
     "text": [
      "Customer Kayla Hubbard added successfully.\n",
      "Customer Kristine Stewart added successfully.\n",
      "Customer William Lee added successfully.\n",
      "Customer Mary Hernandez added successfully.\n",
      "Customer John Bowman added successfully.\n",
      "Customer Erica Weaver added successfully.\n",
      "Customer Christine Ellis added successfully.\n",
      "Customer Jennifer Bennett added successfully.\n",
      "Customer Roy Smith added successfully.\n",
      "Customer Jennifer Cervantes added successfully.\n",
      "Sale recorded for Kayla Hubbard: Keyboard - $1423.34\n",
      "Sale recorded for Kristine Stewart: Mouse - $1322.95\n",
      "Sale recorded for William Lee: Keyboard - $103.15\n",
      "Sale recorded for Mary Hernandez: Headphones - $1560.94\n",
      "Sale recorded for John Bowman: Headphones - $65.56\n",
      "Sale recorded for Erica Weaver: Monitor - $366.75\n",
      "Sale recorded for Christine Ellis: Keyboard - $305.52\n",
      "Sale recorded for Jennifer Bennett: Tablet - $1485.0\n",
      "Sale recorded for Roy Smith: Headphones - $692.07\n",
      "Sale recorded for Jennifer Cervantes: Mouse - $1483.64\n",
      "{'Total Customers': 10, 'Total Sales': 10, 'Revenue': 8808.92}\n"
     ]
    }
   ],
   "source": [
    "from CustomerManagement import CustomerManagement\n",
    "from SalesTracking import SalesTracking\n",
    "from Reporting import Reporting\n",
    "from faker import Faker\n",
    "import random\n",
    "\n",
    "if __name__ == \"__main__\":\n",
    "    customer_mgmt = CustomerManagement()\n",
    "    sales_mgmt = SalesTracking()\n",
    "    report_mgmt = Reporting(customer_mgmt, sales_mgmt)\n",
    "    fake = Faker()\n",
    "\n",
    "    # Predefined list of realistic product names\n",
    "    product_list = [\n",
    "        \"Laptop\", \"Smartphone\", \"Tablet\", \"Headphones\", \"Smartwatch\",\n",
    "        \"Gaming Console\", \"Wireless Earbuds\", \"Monitor\", \"Keyboard\", \"Mouse\"\n",
    "    ]\n",
    "\n",
    "    # Generate 10 customers and store their details\n",
    "    customers = []  # Separate list to store only names\n",
    "    for _ in range(10):\n",
    "        name = fake.name()\n",
    "        email = fake.email()\n",
    "        phone = fake.phone_number()\n",
    "        print(customer_mgmt.add_customer(name, email, phone))\n",
    "        customers.append(name)  # Store names separately for easier access\n",
    "\n",
    "    # Generate and record sales for each customer using actual names\n",
    "    for name in customers:\n",
    "        product = fake.random_element(product_list)  # Select a random product\n",
    "        price = round(random.uniform(50, 2000), 2)  # Generate a realistic price\n",
    "        print(sales_mgmt.record_sale(name, product, price))  # Correctly prints actual name\n",
    "\n",
    "    # Generating Report\n",
    "    print(report_mgmt.generate_report())"
   ]
  }
 ],
 "metadata": {
  "kernelspec": {
   "display_name": "Python 3 (ipykernel)",
   "language": "python",
   "name": "python3"
  },
  "language_info": {
   "codemirror_mode": {
    "name": "ipython",
    "version": 3
   },
   "file_extension": ".py",
   "mimetype": "text/x-python",
   "name": "python",
   "nbconvert_exporter": "python",
   "pygments_lexer": "ipython3",
   "version": "3.12.8"
  }
 },
 "nbformat": 4,
 "nbformat_minor": 5
}
